{
  "cells": [
    {
      "cell_type": "markdown",
      "metadata": {
        "id": "view-in-github",
        "colab_type": "text"
      },
      "source": [
        "<a href=\"https://colab.research.google.com/github/adytiapp/hotel_booking_cancellation/blob/main/Hotel_Cancellation_Prediction.ipynb\" target=\"_parent\"><img src=\"https://colab.research.google.com/assets/colab-badge.svg\" alt=\"Open In Colab\"/></a>"
      ]
    },
    {
      "cell_type": "markdown",
      "metadata": {
        "id": "UMWtUBOdr4Qw"
      },
      "source": [
        "In this notebook, we are going to analyze the hotel booking dataset provided by kaggle. The data is originally from the article Hotel Booking Demand Datasets, written by Nuno Antonio, Ana Almeida, and Luis Nunes for Data in Brief, Volume 22, February 2019."
      ]
    },
    {
      "cell_type": "markdown",
      "metadata": {
        "id": "arcYepsjsSHk"
      },
      "source": [
        "# Abstract\n",
        "\n",
        "This data article describes two datasets with hotel demand data. One of the hotels (H1) is a resort hotel and the other is a city hotel (H2). Both datasets share the same structure, with 31 variables describing the 40,060 observations of H1 and 79,330 observations of H2. Each observation represents a hotel booking. Both datasets comprehend bookings due to arrive between the 1st of July of 2015 and the 31st of August 2017, including bookings that effectively arrived and bookings that were canceled. Since this is hotel real data, all data elements pertaining hotel or costumer identification were deleted. Due to the scarcity of real business data for scientific and educational purposes, these datasets can have an important role for research and education in revenue management, machine learning, or data mining, as well as in other fields."
      ]
    },
    {
      "cell_type": "markdown",
      "metadata": {
        "id": "pq005ZODtDMH"
      },
      "source": [
        "# Data Preparation"
      ]
    },
    {
      "cell_type": "markdown",
      "metadata": {
        "id": "NuQLbsqJleLd"
      },
      "source": [
        "Preparation"
      ]
    },
    {
      "cell_type": "code",
      "execution_count": null,
      "metadata": {
        "id": "iI0VHeNGCiD2"
      },
      "outputs": [],
      "source": [
        "import pandas as pd\n",
        "import numpy as np \n",
        "import matplotlib.pyplot as plt\n",
        "import seaborn as sns \n",
        "import re\n",
        "import pickle\n",
        "\n",
        "\n",
        "from sklearn.preprocessing import StandardScaler\n",
        "from sklearn.model_selection import train_test_split, GridSearchCV, cross_val_score, StratifiedKFold\n",
        "from sklearn.pipeline import Pipeline\n",
        "from sklearn.dummy import DummyClassifier\n",
        "from sklearn.linear_model import LogisticRegression\n",
        "from sklearn.tree import DecisionTreeClassifier\n",
        "from sklearn.ensemble import BaggingClassifier, RandomForestClassifier\n",
        "from sklearn.metrics import confusion_matrix\n",
        "\n",
        "from tensorflow.keras.models import Sequential\n",
        "from tensorflow.keras.layers import Dense, Dropout\n",
        "from tensorflow.keras.wrappers.scikit_learn import KerasRegressor\n",
        "from tensorflow.keras.callbacks import EarlyStopping\n",
        "\n",
        "RANDOM_STATE = 42"
      ]
    },
    {
      "cell_type": "markdown",
      "metadata": {
        "id": "TQeK6UzrmtT4"
      },
      "source": [
        "Load Data"
      ]
    },
    {
      "cell_type": "code",
      "execution_count": null,
      "metadata": {
        "colab": {
          "base_uri": "https://localhost:8080/",
          "height": 386
        },
        "id": "KEMcFaI5DMAu",
        "outputId": "5485ee7d-aea5-44c8-ee0f-17c302a1a903"
      },
      "outputs": [
        {
          "output_type": "execute_result",
          "data": {
            "text/plain": [
              "   hotel  is_canceled  lead_time  arrival_date_year  arrival_date_week_number  \\\n",
              "0      1            0        342               2015                        27   \n",
              "1      1            0        737               2015                        27   \n",
              "2      1            0          7               2015                        27   \n",
              "3      1            0         13               2015                        27   \n",
              "4      1            0         14               2015                        27   \n",
              "\n",
              "   stays_in_weekend_nights  stays_in_week_nights  adults  children  babies  \\\n",
              "0                        0                     0       2         0       0   \n",
              "1                        0                     0       2         0       0   \n",
              "2                        0                     1       1         0       0   \n",
              "3                        0                     1       1         0       0   \n",
              "4                        0                     2       2         0       0   \n",
              "\n",
              "   ... average_daily_rate required_car_parking_spaces  \\\n",
              "0  ...                0.0                           0   \n",
              "1  ...                0.0                           0   \n",
              "2  ...               75.0                           0   \n",
              "3  ...               75.0                           0   \n",
              "4  ...               98.0                           0   \n",
              "\n",
              "  total_of_special_requests reservation_status  reservation_status_date  \\\n",
              "0                         0          Check-Out                 7/1/2015   \n",
              "1                         0          Check-Out                 7/1/2015   \n",
              "2                         0          Check-Out                 7/2/2015   \n",
              "3                         0          Check-Out                 7/2/2015   \n",
              "4                         1          Check-Out                 7/3/2015   \n",
              "\n",
              "          arrival_date  arrival_date_month total_day_stays total_guests  \\\n",
              "0  2015-07-01 00:00:00                   7               0            2   \n",
              "1  2015-07-01 00:00:00                   7               0            2   \n",
              "2  2015-07-01 00:00:00                   7               1            1   \n",
              "3  2015-07-01 00:00:00                   7               1            1   \n",
              "4  2015-07-01 00:00:00                   7               2            2   \n",
              "\n",
              "   clusters  \n",
              "0         0  \n",
              "1         0  \n",
              "2         2  \n",
              "3         2  \n",
              "4         2  \n",
              "\n",
              "[5 rows x 33 columns]"
            ],
            "text/html": [
              "\n",
              "  <div id=\"df-eb03e68a-319a-4ea1-8123-d3ea3efb71e4\">\n",
              "    <div class=\"colab-df-container\">\n",
              "      <div>\n",
              "<style scoped>\n",
              "    .dataframe tbody tr th:only-of-type {\n",
              "        vertical-align: middle;\n",
              "    }\n",
              "\n",
              "    .dataframe tbody tr th {\n",
              "        vertical-align: top;\n",
              "    }\n",
              "\n",
              "    .dataframe thead th {\n",
              "        text-align: right;\n",
              "    }\n",
              "</style>\n",
              "<table border=\"1\" class=\"dataframe\">\n",
              "  <thead>\n",
              "    <tr style=\"text-align: right;\">\n",
              "      <th></th>\n",
              "      <th>hotel</th>\n",
              "      <th>is_canceled</th>\n",
              "      <th>lead_time</th>\n",
              "      <th>arrival_date_year</th>\n",
              "      <th>arrival_date_week_number</th>\n",
              "      <th>stays_in_weekend_nights</th>\n",
              "      <th>stays_in_week_nights</th>\n",
              "      <th>adults</th>\n",
              "      <th>children</th>\n",
              "      <th>babies</th>\n",
              "      <th>...</th>\n",
              "      <th>average_daily_rate</th>\n",
              "      <th>required_car_parking_spaces</th>\n",
              "      <th>total_of_special_requests</th>\n",
              "      <th>reservation_status</th>\n",
              "      <th>reservation_status_date</th>\n",
              "      <th>arrival_date</th>\n",
              "      <th>arrival_date_month</th>\n",
              "      <th>total_day_stays</th>\n",
              "      <th>total_guests</th>\n",
              "      <th>clusters</th>\n",
              "    </tr>\n",
              "  </thead>\n",
              "  <tbody>\n",
              "    <tr>\n",
              "      <th>0</th>\n",
              "      <td>1</td>\n",
              "      <td>0</td>\n",
              "      <td>342</td>\n",
              "      <td>2015</td>\n",
              "      <td>27</td>\n",
              "      <td>0</td>\n",
              "      <td>0</td>\n",
              "      <td>2</td>\n",
              "      <td>0</td>\n",
              "      <td>0</td>\n",
              "      <td>...</td>\n",
              "      <td>0.0</td>\n",
              "      <td>0</td>\n",
              "      <td>0</td>\n",
              "      <td>Check-Out</td>\n",
              "      <td>7/1/2015</td>\n",
              "      <td>2015-07-01 00:00:00</td>\n",
              "      <td>7</td>\n",
              "      <td>0</td>\n",
              "      <td>2</td>\n",
              "      <td>0</td>\n",
              "    </tr>\n",
              "    <tr>\n",
              "      <th>1</th>\n",
              "      <td>1</td>\n",
              "      <td>0</td>\n",
              "      <td>737</td>\n",
              "      <td>2015</td>\n",
              "      <td>27</td>\n",
              "      <td>0</td>\n",
              "      <td>0</td>\n",
              "      <td>2</td>\n",
              "      <td>0</td>\n",
              "      <td>0</td>\n",
              "      <td>...</td>\n",
              "      <td>0.0</td>\n",
              "      <td>0</td>\n",
              "      <td>0</td>\n",
              "      <td>Check-Out</td>\n",
              "      <td>7/1/2015</td>\n",
              "      <td>2015-07-01 00:00:00</td>\n",
              "      <td>7</td>\n",
              "      <td>0</td>\n",
              "      <td>2</td>\n",
              "      <td>0</td>\n",
              "    </tr>\n",
              "    <tr>\n",
              "      <th>2</th>\n",
              "      <td>1</td>\n",
              "      <td>0</td>\n",
              "      <td>7</td>\n",
              "      <td>2015</td>\n",
              "      <td>27</td>\n",
              "      <td>0</td>\n",
              "      <td>1</td>\n",
              "      <td>1</td>\n",
              "      <td>0</td>\n",
              "      <td>0</td>\n",
              "      <td>...</td>\n",
              "      <td>75.0</td>\n",
              "      <td>0</td>\n",
              "      <td>0</td>\n",
              "      <td>Check-Out</td>\n",
              "      <td>7/2/2015</td>\n",
              "      <td>2015-07-01 00:00:00</td>\n",
              "      <td>7</td>\n",
              "      <td>1</td>\n",
              "      <td>1</td>\n",
              "      <td>2</td>\n",
              "    </tr>\n",
              "    <tr>\n",
              "      <th>3</th>\n",
              "      <td>1</td>\n",
              "      <td>0</td>\n",
              "      <td>13</td>\n",
              "      <td>2015</td>\n",
              "      <td>27</td>\n",
              "      <td>0</td>\n",
              "      <td>1</td>\n",
              "      <td>1</td>\n",
              "      <td>0</td>\n",
              "      <td>0</td>\n",
              "      <td>...</td>\n",
              "      <td>75.0</td>\n",
              "      <td>0</td>\n",
              "      <td>0</td>\n",
              "      <td>Check-Out</td>\n",
              "      <td>7/2/2015</td>\n",
              "      <td>2015-07-01 00:00:00</td>\n",
              "      <td>7</td>\n",
              "      <td>1</td>\n",
              "      <td>1</td>\n",
              "      <td>2</td>\n",
              "    </tr>\n",
              "    <tr>\n",
              "      <th>4</th>\n",
              "      <td>1</td>\n",
              "      <td>0</td>\n",
              "      <td>14</td>\n",
              "      <td>2015</td>\n",
              "      <td>27</td>\n",
              "      <td>0</td>\n",
              "      <td>2</td>\n",
              "      <td>2</td>\n",
              "      <td>0</td>\n",
              "      <td>0</td>\n",
              "      <td>...</td>\n",
              "      <td>98.0</td>\n",
              "      <td>0</td>\n",
              "      <td>1</td>\n",
              "      <td>Check-Out</td>\n",
              "      <td>7/3/2015</td>\n",
              "      <td>2015-07-01 00:00:00</td>\n",
              "      <td>7</td>\n",
              "      <td>2</td>\n",
              "      <td>2</td>\n",
              "      <td>2</td>\n",
              "    </tr>\n",
              "  </tbody>\n",
              "</table>\n",
              "<p>5 rows × 33 columns</p>\n",
              "</div>\n",
              "      <button class=\"colab-df-convert\" onclick=\"convertToInteractive('df-eb03e68a-319a-4ea1-8123-d3ea3efb71e4')\"\n",
              "              title=\"Convert this dataframe to an interactive table.\"\n",
              "              style=\"display:none;\">\n",
              "        \n",
              "  <svg xmlns=\"http://www.w3.org/2000/svg\" height=\"24px\"viewBox=\"0 0 24 24\"\n",
              "       width=\"24px\">\n",
              "    <path d=\"M0 0h24v24H0V0z\" fill=\"none\"/>\n",
              "    <path d=\"M18.56 5.44l.94 2.06.94-2.06 2.06-.94-2.06-.94-.94-2.06-.94 2.06-2.06.94zm-11 1L8.5 8.5l.94-2.06 2.06-.94-2.06-.94L8.5 2.5l-.94 2.06-2.06.94zm10 10l.94 2.06.94-2.06 2.06-.94-2.06-.94-.94-2.06-.94 2.06-2.06.94z\"/><path d=\"M17.41 7.96l-1.37-1.37c-.4-.4-.92-.59-1.43-.59-.52 0-1.04.2-1.43.59L10.3 9.45l-7.72 7.72c-.78.78-.78 2.05 0 2.83L4 21.41c.39.39.9.59 1.41.59.51 0 1.02-.2 1.41-.59l7.78-7.78 2.81-2.81c.8-.78.8-2.07 0-2.86zM5.41 20L4 18.59l7.72-7.72 1.47 1.35L5.41 20z\"/>\n",
              "  </svg>\n",
              "      </button>\n",
              "      \n",
              "  <style>\n",
              "    .colab-df-container {\n",
              "      display:flex;\n",
              "      flex-wrap:wrap;\n",
              "      gap: 12px;\n",
              "    }\n",
              "\n",
              "    .colab-df-convert {\n",
              "      background-color: #E8F0FE;\n",
              "      border: none;\n",
              "      border-radius: 50%;\n",
              "      cursor: pointer;\n",
              "      display: none;\n",
              "      fill: #1967D2;\n",
              "      height: 32px;\n",
              "      padding: 0 0 0 0;\n",
              "      width: 32px;\n",
              "    }\n",
              "\n",
              "    .colab-df-convert:hover {\n",
              "      background-color: #E2EBFA;\n",
              "      box-shadow: 0px 1px 2px rgba(60, 64, 67, 0.3), 0px 1px 3px 1px rgba(60, 64, 67, 0.15);\n",
              "      fill: #174EA6;\n",
              "    }\n",
              "\n",
              "    [theme=dark] .colab-df-convert {\n",
              "      background-color: #3B4455;\n",
              "      fill: #D2E3FC;\n",
              "    }\n",
              "\n",
              "    [theme=dark] .colab-df-convert:hover {\n",
              "      background-color: #434B5C;\n",
              "      box-shadow: 0px 1px 3px 1px rgba(0, 0, 0, 0.15);\n",
              "      filter: drop-shadow(0px 1px 2px rgba(0, 0, 0, 0.3));\n",
              "      fill: #FFFFFF;\n",
              "    }\n",
              "  </style>\n",
              "\n",
              "      <script>\n",
              "        const buttonEl =\n",
              "          document.querySelector('#df-eb03e68a-319a-4ea1-8123-d3ea3efb71e4 button.colab-df-convert');\n",
              "        buttonEl.style.display =\n",
              "          google.colab.kernel.accessAllowed ? 'block' : 'none';\n",
              "\n",
              "        async function convertToInteractive(key) {\n",
              "          const element = document.querySelector('#df-eb03e68a-319a-4ea1-8123-d3ea3efb71e4');\n",
              "          const dataTable =\n",
              "            await google.colab.kernel.invokeFunction('convertToInteractive',\n",
              "                                                     [key], {});\n",
              "          if (!dataTable) return;\n",
              "\n",
              "          const docLinkHtml = 'Like what you see? Visit the ' +\n",
              "            '<a target=\"_blank\" href=https://colab.research.google.com/notebooks/data_table.ipynb>data table notebook</a>'\n",
              "            + ' to learn more about interactive tables.';\n",
              "          element.innerHTML = '';\n",
              "          dataTable['output_type'] = 'display_data';\n",
              "          await google.colab.output.renderOutput(dataTable, element);\n",
              "          const docLink = document.createElement('div');\n",
              "          docLink.innerHTML = docLinkHtml;\n",
              "          element.appendChild(docLink);\n",
              "        }\n",
              "      </script>\n",
              "    </div>\n",
              "  </div>\n",
              "  "
            ]
          },
          "metadata": {},
          "execution_count": 2
        }
      ],
      "source": [
        "sheet_url = 'https://docs.google.com/spreadsheets/d/1PtgmKAgd_PV8OxD545NAlMbH8UPPS-oa/edit#gid=623757277'\n",
        "sheet_url_trf = sheet_url.replace('/edit#gid=', '/export?format=csv&gid=')\n",
        "df_ori = pd.read_csv (sheet_url_trf)\n",
        "df_ori.head()"
      ]
    },
    {
      "cell_type": "markdown",
      "metadata": {
        "id": "NhPgYdOhDnPQ"
      },
      "source": [
        "Making a copy so the original dataset isn't affected"
      ]
    },
    {
      "cell_type": "code",
      "execution_count": null,
      "metadata": {
        "colab": {
          "base_uri": "https://localhost:8080/"
        },
        "id": "R0A1A-tdDm21",
        "outputId": "c534acec-456c-43fb-d89f-543281fe42ae"
      },
      "outputs": [
        {
          "output_type": "stream",
          "name": "stdout",
          "text": [
            "<class 'pandas.core.frame.DataFrame'>\n",
            "RangeIndex: 118898 entries, 0 to 118897\n",
            "Data columns (total 33 columns):\n",
            " #   Column                          Non-Null Count   Dtype  \n",
            "---  ------                          --------------   -----  \n",
            " 0   hotel                           118898 non-null  int64  \n",
            " 1   is_canceled                     118898 non-null  int64  \n",
            " 2   lead_time                       118898 non-null  int64  \n",
            " 3   arrival_date_year               118898 non-null  int64  \n",
            " 4   arrival_date_week_number        118898 non-null  int64  \n",
            " 5   stays_in_weekend_nights         118898 non-null  int64  \n",
            " 6   stays_in_week_nights            118898 non-null  int64  \n",
            " 7   adults                          118898 non-null  int64  \n",
            " 8   children                        118898 non-null  int64  \n",
            " 9   babies                          118898 non-null  int64  \n",
            " 10  meal                            118898 non-null  object \n",
            " 11  country                         118898 non-null  object \n",
            " 12  market_segment                  118898 non-null  object \n",
            " 13  distribution_channel            118898 non-null  object \n",
            " 14  is_repeated_guest               118898 non-null  int64  \n",
            " 15  previous_cancellations          118898 non-null  int64  \n",
            " 16  previous_bookings_not_canceled  118898 non-null  int64  \n",
            " 17  reserved_room_type              118898 non-null  object \n",
            " 18  assigned_room_type              118898 non-null  object \n",
            " 19  booking_changes                 118898 non-null  int64  \n",
            " 20  deposit_type                    118898 non-null  object \n",
            " 21  days_in_waiting_list            118898 non-null  int64  \n",
            " 22  customer_type                   118898 non-null  object \n",
            " 23  average_daily_rate              118898 non-null  float64\n",
            " 24  required_car_parking_spaces     118898 non-null  int64  \n",
            " 25  total_of_special_requests       118898 non-null  int64  \n",
            " 26  reservation_status              118898 non-null  object \n",
            " 27  reservation_status_date         118898 non-null  object \n",
            " 28  arrival_date                    118898 non-null  object \n",
            " 29  arrival_date_month              118898 non-null  int64  \n",
            " 30  total_day_stays                 118898 non-null  int64  \n",
            " 31  total_guests                    118898 non-null  int64  \n",
            " 32  clusters                        118898 non-null  int64  \n",
            "dtypes: float64(1), int64(21), object(11)\n",
            "memory usage: 29.9+ MB\n"
          ]
        }
      ],
      "source": [
        "df = df_ori.copy()\n",
        "df.info()"
      ]
    },
    {
      "cell_type": "markdown",
      "metadata": {
        "id": "bIF-BTblEfwX"
      },
      "source": [
        "# Booking Cancellation Predictions"
      ]
    },
    {
      "cell_type": "markdown",
      "source": [
        "**Model Preparation**"
      ],
      "metadata": {
        "id": "2mujWpHCYYvX"
      }
    },
    {
      "cell_type": "markdown",
      "source": [
        "We do not want to leak any information about our target (cancellation) into our model. As a result, we must remove is_canceled, reservation_status, and country from our X variable.\n",
        "\n",
        "Finally, as models cannot take in datetime objects as features, the reservation_status_date and arrival_date_full features were also excluded from the clustering model. It is worth noting that information about the arrival date is still included in the model thanks to the arrival_date_year, arrival_date_month, and arrival_date_day_of_month features. In addition, information about the reservation status date was used to generate the status_minus_arrival_date feature."
      ],
      "metadata": {
        "id": "8sXzIyoDYh2B"
      }
    },
    {
      "cell_type": "code",
      "source": [
        "df = pd.get_dummies(df, columns=['meal', 'market_segment', 'distribution_channel', 'reserved_room_type', 'assigned_room_type', 'deposit_type', 'customer_type', 'clusters'])"
      ],
      "metadata": {
        "id": "brw_k5FxXxmi"
      },
      "execution_count": null,
      "outputs": []
    },
    {
      "cell_type": "code",
      "source": [
        "X = df.drop(columns=['is_canceled','reservation_status', 'country', \n",
        "                     'reservation_status_date', 'arrival_date'])\n",
        "y = df['is_canceled']\n",
        "\n",
        "X_train, X_test, y_train, y_test = train_test_split(X, y, random_state=RANDOM_STATE, stratify=y, test_size=0.15)"
      ],
      "metadata": {
        "id": "ZtE5r3bhZC5F"
      },
      "execution_count": null,
      "outputs": []
    },
    {
      "cell_type": "markdown",
      "source": [
        "**Modelling**"
      ],
      "metadata": {
        "id": "V-eNOa-fZL5g"
      }
    },
    {
      "cell_type": "markdown",
      "source": [
        "Our goal is to build a model able to predict whether or not a booking will be canceled with the highest level of accuracy. In order to do so, our baseline model was compared to a logistic regression, a decision tree, a bagging classifier, and random forest."
      ],
      "metadata": {
        "id": "9Fvs04IOZNxw"
      }
    },
    {
      "cell_type": "markdown",
      "source": [
        "**Baseline Model**"
      ],
      "metadata": {
        "id": "PUfB8YsSZiMx"
      }
    },
    {
      "cell_type": "code",
      "source": [
        "# Checking baseline model score \n",
        "dummy = DummyClassifier(strategy=\"most_frequent\")\n",
        "dummy.fit(X_train, y_train)\n",
        "print(f'Baseline Training Score: {dummy.score(X_train, y_train)}')\n",
        "print(f'Baseline Testing Score: {dummy.score(X_test, y_test)}')"
      ],
      "metadata": {
        "colab": {
          "base_uri": "https://localhost:8080/"
        },
        "id": "xemLIqgpZKAm",
        "outputId": "2356fa92-c8b6-4e74-accb-de84de086a32"
      },
      "execution_count": null,
      "outputs": [
        {
          "output_type": "stream",
          "name": "stdout",
          "text": [
            "Baseline Training Score: 0.6286474773161296\n",
            "Baseline Testing Score: 0.6286515278945893\n"
          ]
        }
      ]
    },
    {
      "cell_type": "markdown",
      "source": [
        "**Logistic Regression**"
      ],
      "metadata": {
        "id": "FhpSiZNMZj-X"
      }
    },
    {
      "cell_type": "code",
      "source": [
        "# Construct Grid Parameters\n",
        "lg_params = {\n",
        "    'penalty': ['l1'], \n",
        "    'C': [3.5],\n",
        "    'max_iter': [300]\n",
        "}\n",
        "\n",
        "# Perform Grid Search\n",
        "lg_gs = GridSearchCV(LogisticRegression(solver='liblinear', random_state=RANDOM_STATE),\n",
        "                 lg_params,\n",
        "                 cv = 5,\n",
        "                 scoring = 'accuracy')\n",
        "lg = lg_gs.fit(X_train, y_train)\n",
        "\n",
        "print(f'Best Training Accuracy: {lg.score(X_train, y_train)}')\n",
        "print(f'Best Testing Accuracy: {lg.score(X_test, y_test)}')\n",
        "print(f'Cross-val-score: {cross_val_score(lg.best_estimator_, X, y, cv=StratifiedKFold(shuffle=True)).mean()}')"
      ],
      "metadata": {
        "colab": {
          "base_uri": "https://localhost:8080/"
        },
        "id": "UHOEGcCoZdsO",
        "outputId": "fc4fe9e9-18f2-4045-d91b-882736db2bcf"
      },
      "execution_count": null,
      "outputs": [
        {
          "output_type": "stream",
          "name": "stdout",
          "text": [
            "Best Training Accuracy: 0.8119885615902952\n",
            "Best Testing Accuracy: 0.8155312587608635\n",
            "Cross-val-score: 0.8123097331889658\n"
          ]
        }
      ]
    },
    {
      "cell_type": "markdown",
      "source": [
        "Interpretation: This model is not overfit or underfit (the training and testing scores are close together). The model is outperforming the baseline with a testing accuracy of 81.2%. The cross-val-score being very close to the testing score indicates that our testing set is a valid representation of the data.\n",
        "\n",
        "Since the logistic regression model does not provide predictive power as high as we would like, we will attempt a more complex Decision Tree model next."
      ],
      "metadata": {
        "id": "D5Kho3eYrPaB"
      }
    },
    {
      "cell_type": "markdown",
      "source": [
        "**Decision Tree**"
      ],
      "metadata": {
        "id": "msa2bpjcZu2y"
      }
    },
    {
      "cell_type": "code",
      "source": [
        "# Construct Grid Parameters\n",
        "dt_params = {\n",
        "    'max_depth':[None],\n",
        "    'max_features' : [0.7],\n",
        "    'min_samples_split': [25], \n",
        "    'min_samples_leaf': [1]\n",
        "}\n",
        "\n",
        "# Perform Grid Search\n",
        "dt_gs = GridSearchCV(DecisionTreeClassifier(random_state=RANDOM_STATE),\n",
        "                 dt_params,\n",
        "                 cv = 5,\n",
        "                 scoring = 'accuracy')\n",
        "dt = dt_gs.fit(X_train, y_train)\n",
        "\n",
        "print(f'Best Training Accuracy: {dt.score(X_train, y_train)}')\n",
        "print(f'Best Testing Accuracy: {dt.score(X_test, y_test)}')\n",
        "print(f'Cross-val-score: {cross_val_score(dt.best_estimator_, X, y, cv=StratifiedKFold(shuffle=True)).mean()}')"
      ],
      "metadata": {
        "colab": {
          "base_uri": "https://localhost:8080/"
        },
        "id": "lrmOC1fqZegS",
        "outputId": "71add82a-981e-46e8-84be-555b2b6f5da0"
      },
      "execution_count": null,
      "outputs": [
        {
          "output_type": "stream",
          "name": "stdout",
          "text": [
            "Best Training Accuracy: 0.8995675964497393\n",
            "Best Testing Accuracy: 0.8333052985702271\n",
            "Cross-val-score: 0.8320913746999767\n"
          ]
        }
      ]
    },
    {
      "cell_type": "markdown",
      "source": [
        "Interpretation: This model is slightly overfit with a training score of 95.6% higher than our 93.6% accuracy testing score. The cross-val-score being very close to the testing score indicates that our testing set is a valid representation of the data. Although our model is slightly overfit, the high testing score indicates that it still provides high predictive power.\n",
        "\n",
        "Since our Decision Tree model is overfit, we will try a Bagging Classifier model next in order to increase performance and reduce variance."
      ],
      "metadata": {
        "id": "sUzdyfwsro4y"
      }
    },
    {
      "cell_type": "markdown",
      "source": [
        "**Bagging Classifier**"
      ],
      "metadata": {
        "id": "P2uWqMrCrwwX"
      }
    },
    {
      "cell_type": "code",
      "source": [
        "# Construct Grid Parameters\n",
        "bc_params = {\n",
        "    'n_estimators': [45], \n",
        "    'max_features': [0.8]\n",
        "}\n",
        "\n",
        "# Perform Grid Search\n",
        "bc_gs = GridSearchCV(BaggingClassifier(random_state=RANDOM_STATE),\n",
        "                 bc_params,\n",
        "                 cv = 5,\n",
        "                 scoring = 'accuracy')\n",
        "bc = bc_gs.fit(X_train, y_train)\n",
        "\n",
        "print(f'Best Training Accuracy: {bc.score(X_train, y_train)}')\n",
        "print(f'Best Testing Accuracy: {bc.score(X_test, y_test)}')\n",
        "print(f'Cross-val-score: {cross_val_score(bc.best_estimator_, X, y, cv=StratifiedKFold(shuffle=True)).mean()}')"
      ],
      "metadata": {
        "colab": {
          "base_uri": "https://localhost:8080/"
        },
        "id": "kbevIcz5rzy_",
        "outputId": "92eb3ec1-ea4d-4759-f7e2-79f0ac2eca50"
      },
      "execution_count": null,
      "outputs": [
        {
          "output_type": "stream",
          "name": "stdout",
          "text": [
            "Best Training Accuracy: 0.9914409823575393\n",
            "Best Testing Accuracy: 0.8689655172413793\n",
            "Cross-val-score: 0.8672391531763738\n"
          ]
        }
      ]
    },
    {
      "cell_type": "markdown",
      "source": [
        "Interpretation: This model is overfit with a training score of 99.9% higher than our 96.5% accuracy testing score. The cross-val-score being very close to the testing score indicates that our testing set is a valid representation of the data. Although our model is overfit, the high testing score indicates that it still provides high predictive power.\n",
        "\n",
        "Since our Bagging Classifier model is overfit, we will try a Random Forest next to introduce more randomness and hopefully decrease the variance."
      ],
      "metadata": {
        "id": "9v8C9A_Ur5xP"
      }
    },
    {
      "cell_type": "code",
      "source": [
        "# Construct Grid Parameters\n",
        "rf_params = {\n",
        "    'n_estimators': [150],  \n",
        "    'max_features': [50],\n",
        "    'max_depth': [13]\n",
        "}\n",
        "\n",
        "# Perform Grid Search\n",
        "rf_gs = GridSearchCV(RandomForestClassifier(random_state=RANDOM_STATE),\n",
        "                 rf_params,\n",
        "                 cv = 5,\n",
        "                 scoring = 'accuracy')\n",
        "rf = rf_gs.fit(X_train, y_train)\n",
        "\n",
        "print(f'Best Training Accuracy: {rf.score(X_train, y_train)}')\n",
        "print(f'Best Testing Accuracy: {rf.score(X_test, y_test)}')\n",
        "print(f'Cross-val-score: {cross_val_score(rf.best_estimator_, X, y, cv=StratifiedKFold(shuffle=True)).mean()}')"
      ],
      "metadata": {
        "colab": {
          "base_uri": "https://localhost:8080/"
        },
        "id": "WGbvaMnosCHY",
        "outputId": "756d131a-c18d-402e-8e7e-6f24ba201932"
      },
      "execution_count": null,
      "outputs": [
        {
          "output_type": "stream",
          "name": "stdout",
          "text": [
            "Best Training Accuracy: 0.8480848579598864\n",
            "Best Testing Accuracy: 0.8404821979254276\n",
            "Cross-val-score: 0.8368938166281739\n"
          ]
        }
      ]
    },
    {
      "cell_type": "code",
      "source": [
        "feature_names = [f\"feature {i}\" for i in range(X.shape[1])]\n",
        "forest = RandomForestClassifier(random_state=0)\n",
        "forest.fit(X_train, y_train)"
      ],
      "metadata": {
        "colab": {
          "base_uri": "https://localhost:8080/"
        },
        "id": "cyVluEzwh-mU",
        "outputId": "a4b8dd25-0fb7-4675-8be1-599c8cc1e9f7"
      },
      "execution_count": null,
      "outputs": [
        {
          "output_type": "execute_result",
          "data": {
            "text/plain": [
              "RandomForestClassifier(random_state=0)"
            ]
          },
          "metadata": {},
          "execution_count": 11
        }
      ]
    },
    {
      "cell_type": "code",
      "source": [
        "import time\n",
        "\n",
        "start_time = time.time()\n",
        "importances = forest.feature_importances_\n",
        "std = np.std([tree.feature_importances_ for tree in forest.estimators_], axis=0)\n",
        "elapsed_time = time.time() - start_time\n",
        "\n",
        "print(f\"Elapsed time to compute the importances: {elapsed_time:.3f} seconds\")"
      ],
      "metadata": {
        "colab": {
          "base_uri": "https://localhost:8080/"
        },
        "id": "_SZ4CYhIe7Mj",
        "outputId": "43ecd6bf-bae7-42bd-a38e-4ee03596291b"
      },
      "execution_count": null,
      "outputs": [
        {
          "output_type": "stream",
          "name": "stdout",
          "text": [
            "Elapsed time to compute the importances: 0.108 seconds\n"
          ]
        }
      ]
    },
    {
      "cell_type": "code",
      "source": [
        "forest.feature_names = list(X_train.columns.values)"
      ],
      "metadata": {
        "id": "cM80BjOUmeGx"
      },
      "execution_count": null,
      "outputs": []
    },
    {
      "cell_type": "code",
      "source": [
        "feat_importances = pd.Series(importances, index=X.columns)\n",
        "feat_importances.nlargest(10).plot(kind='barh')\n",
        "plt.title(\"Top 15 important features\")\n",
        "plt.show()"
      ],
      "metadata": {
        "colab": {
          "base_uri": "https://localhost:8080/",
          "height": 281
        },
        "id": "rvk7qydUWSdh",
        "outputId": "2b858918-2c32-4c0a-ba8d-7583f1f93f45"
      },
      "execution_count": null,
      "outputs": [
        {
          "output_type": "display_data",
          "data": {
            "text/plain": [
              "<Figure size 432x288 with 1 Axes>"
            ],
            "image/png": "[encoded data removed]"
          },
          "metadata": {
            "needs_background": "light"
          }
        }
      ]
    },
    {
      "cell_type": "code",
      "source": [
        "feat_importances.nlargest(10)"
      ],
      "metadata": {
        "colab": {
          "base_uri": "https://localhost:8080/"
        },
        "id": "J16Po0vNd9Nv",
        "outputId": "9ebf2eb9-312b-4728-904a-7fb3e3d6dce5"
      },
      "execution_count": null,
      "outputs": [
        {
          "output_type": "execute_result",
          "data": {
            "text/plain": [
              "lead_time                    0.135545\n",
              "average_daily_rate           0.094105\n",
              "deposit_type_No Deposit      0.093970\n",
              "arrival_date_week_number     0.072934\n",
              "deposit_type_Non Refund      0.066119\n",
              "total_of_special_requests    0.059988\n",
              "arrival_date_month           0.040477\n",
              "total_day_stays              0.039683\n",
              "stays_in_week_nights         0.036301\n",
              "previous_cancellations       0.034808\n",
              "dtype: float64"
            ]
          },
          "metadata": {},
          "execution_count": 16
        }
      ]
    },
    {
      "cell_type": "markdown",
      "source": [
        "Interpretation: Our model's training score of 92.1% is close to our 91.2% accuracy testing score meaning that we have successfully reduced the variance. The cross-val-score being very close to the testing score indicates that our testing set is a valid representation of the data. The high testing score indicates that this model provides high predictive power.\n",
        "\n",
        "While our Random Forest model performs with a much higher accuracy than our baseline model, we will try a more complex Neural Network next in order to try and increase our predictive power even more."
      ],
      "metadata": {
        "id": "c_nD8KvqsHiR"
      }
    },
    {
      "cell_type": "code",
      "source": [
        "predictive_model_scores = pd.DataFrame(data=[('Baseline',0.6286, 0.6286), ('Logistic Regression',0.8119, 0.8155), \n",
        "                                             ('Decision Tree',0.8995, 0.8333), \n",
        "                                             ('Random Forest',0.8480, 0.8404)],\n",
        "                                       columns=['model', 'training_accuracy', 'testing_accuracy'])\n",
        "predictive_model_scores"
      ],
      "metadata": {
        "colab": {
          "base_uri": "https://localhost:8080/",
          "height": 174
        },
        "id": "Mi5OboTqsRKz",
        "outputId": "714ce695-ebf8-4504-9378-50955eaae17a"
      },
      "execution_count": null,
      "outputs": [
        {
          "output_type": "execute_result",
          "data": {
            "text/plain": [
              "                 model  training_accuracy  testing_accuracy\n",
              "0             Baseline             0.6286            0.6286\n",
              "1  Logistic Regression             0.8119            0.8155\n",
              "2        Decision Tree             0.8995            0.8333\n",
              "3        Random Forest             0.8480            0.8404"
            ],
            "text/html": [
              "\n",
              "  <div id=\"df-20e66eb9-b78f-4db3-95e4-f3f4ba7451b1\">\n",
              "    <div class=\"colab-df-container\">\n",
              "      <div>\n",
              "<style scoped>\n",
              "    .dataframe tbody tr th:only-of-type {\n",
              "        vertical-align: middle;\n",
              "    }\n",
              "\n",
              "    .dataframe tbody tr th {\n",
              "        vertical-align: top;\n",
              "    }\n",
              "\n",
              "    .dataframe thead th {\n",
              "        text-align: right;\n",
              "    }\n",
              "</style>\n",
              "<table border=\"1\" class=\"dataframe\">\n",
              "  <thead>\n",
              "    <tr style=\"text-align: right;\">\n",
              "      <th></th>\n",
              "      <th>model</th>\n",
              "      <th>training_accuracy</th>\n",
              "      <th>testing_accuracy</th>\n",
              "    </tr>\n",
              "  </thead>\n",
              "  <tbody>\n",
              "    <tr>\n",
              "      <th>0</th>\n",
              "      <td>Baseline</td>\n",
              "      <td>0.6286</td>\n",
              "      <td>0.6286</td>\n",
              "    </tr>\n",
              "    <tr>\n",
              "      <th>1</th>\n",
              "      <td>Logistic Regression</td>\n",
              "      <td>0.8119</td>\n",
              "      <td>0.8155</td>\n",
              "    </tr>\n",
              "    <tr>\n",
              "      <th>2</th>\n",
              "      <td>Decision Tree</td>\n",
              "      <td>0.8995</td>\n",
              "      <td>0.8333</td>\n",
              "    </tr>\n",
              "    <tr>\n",
              "      <th>3</th>\n",
              "      <td>Random Forest</td>\n",
              "      <td>0.8480</td>\n",
              "      <td>0.8404</td>\n",
              "    </tr>\n",
              "  </tbody>\n",
              "</table>\n",
              "</div>\n",
              "      <button class=\"colab-df-convert\" onclick=\"convertToInteractive('df-20e66eb9-b78f-4db3-95e4-f3f4ba7451b1')\"\n",
              "              title=\"Convert this dataframe to an interactive table.\"\n",
              "              style=\"display:none;\">\n",
              "        \n",
              "  <svg xmlns=\"http://www.w3.org/2000/svg\" height=\"24px\"viewBox=\"0 0 24 24\"\n",
              "       width=\"24px\">\n",
              "    <path d=\"M0 0h24v24H0V0z\" fill=\"none\"/>\n",
              "    <path d=\"M18.56 5.44l.94 2.06.94-2.06 2.06-.94-2.06-.94-.94-2.06-.94 2.06-2.06.94zm-11 1L8.5 8.5l.94-2.06 2.06-.94-2.06-.94L8.5 2.5l-.94 2.06-2.06.94zm10 10l.94 2.06.94-2.06 2.06-.94-2.06-.94-.94-2.06-.94 2.06-2.06.94z\"/><path d=\"M17.41 7.96l-1.37-1.37c-.4-.4-.92-.59-1.43-.59-.52 0-1.04.2-1.43.59L10.3 9.45l-7.72 7.72c-.78.78-.78 2.05 0 2.83L4 21.41c.39.39.9.59 1.41.59.51 0 1.02-.2 1.41-.59l7.78-7.78 2.81-2.81c.8-.78.8-2.07 0-2.86zM5.41 20L4 18.59l7.72-7.72 1.47 1.35L5.41 20z\"/>\n",
              "  </svg>\n",
              "      </button>\n",
              "      \n",
              "  <style>\n",
              "    .colab-df-container {\n",
              "      display:flex;\n",
              "      flex-wrap:wrap;\n",
              "      gap: 12px;\n",
              "    }\n",
              "\n",
              "    .colab-df-convert {\n",
              "      background-color: #E8F0FE;\n",
              "      border: none;\n",
              "      border-radius: 50%;\n",
              "      cursor: pointer;\n",
              "      display: none;\n",
              "      fill: #1967D2;\n",
              "      height: 32px;\n",
              "      padding: 0 0 0 0;\n",
              "      width: 32px;\n",
              "    }\n",
              "\n",
              "    .colab-df-convert:hover {\n",
              "      background-color: #E2EBFA;\n",
              "      box-shadow: 0px 1px 2px rgba(60, 64, 67, 0.3), 0px 1px 3px 1px rgba(60, 64, 67, 0.15);\n",
              "      fill: #174EA6;\n",
              "    }\n",
              "\n",
              "    [theme=dark] .colab-df-convert {\n",
              "      background-color: #3B4455;\n",
              "      fill: #D2E3FC;\n",
              "    }\n",
              "\n",
              "    [theme=dark] .colab-df-convert:hover {\n",
              "      background-color: #434B5C;\n",
              "      box-shadow: 0px 1px 3px 1px rgba(0, 0, 0, 0.15);\n",
              "      filter: drop-shadow(0px 1px 2px rgba(0, 0, 0, 0.3));\n",
              "      fill: #FFFFFF;\n",
              "    }\n",
              "  </style>\n",
              "\n",
              "      <script>\n",
              "        const buttonEl =\n",
              "          document.querySelector('#df-20e66eb9-b78f-4db3-95e4-f3f4ba7451b1 button.colab-df-convert');\n",
              "        buttonEl.style.display =\n",
              "          google.colab.kernel.accessAllowed ? 'block' : 'none';\n",
              "\n",
              "        async function convertToInteractive(key) {\n",
              "          const element = document.querySelector('#df-20e66eb9-b78f-4db3-95e4-f3f4ba7451b1');\n",
              "          const dataTable =\n",
              "            await google.colab.kernel.invokeFunction('convertToInteractive',\n",
              "                                                     [key], {});\n",
              "          if (!dataTable) return;\n",
              "\n",
              "          const docLinkHtml = 'Like what you see? Visit the ' +\n",
              "            '<a target=\"_blank\" href=https://colab.research.google.com/notebooks/data_table.ipynb>data table notebook</a>'\n",
              "            + ' to learn more about interactive tables.';\n",
              "          element.innerHTML = '';\n",
              "          dataTable['output_type'] = 'display_data';\n",
              "          await google.colab.output.renderOutput(dataTable, element);\n",
              "          const docLink = document.createElement('div');\n",
              "          docLink.innerHTML = docLinkHtml;\n",
              "          element.appendChild(docLink);\n",
              "        }\n",
              "      </script>\n",
              "    </div>\n",
              "  </div>\n",
              "  "
            ]
          },
          "metadata": {},
          "execution_count": 21
        }
      ]
    },
    {
      "cell_type": "code",
      "source": [
        "# Visualizing testing accuracy of each model: \n",
        "plt.style.use('default')\n",
        "plt.figure(figsize=(10,5))\n",
        "p=sns.barplot(x='model', y='testing_accuracy', data=predictive_model_scores, palette='PuBu')\n",
        "plt.title('Testing Accuracy For Each Model', fontsize = 20)\n",
        "plt.xlabel('Model', fontsize = 12)\n",
        "plt.ylabel('Testing Accuracy', fontsize = 12)\n",
        "for index, row in predictive_model_scores.iterrows():\n",
        "    p.text(x=row.name, y=row.testing_accuracy, s=round(row.testing_accuracy,2), color='black', horizontalalignment='center');"
      ],
      "metadata": {
        "colab": {
          "base_uri": "https://localhost:8080/",
          "height": 499
        },
        "id": "oJOr2w0csgSX",
        "outputId": "17d445ce-0a38-4f9b-f414-b8ff84f1925d"
      },
      "execution_count": null,
      "outputs": [
        {
          "output_type": "display_data",
          "data": {
            "text/plain": [
              "<Figure size 1000x500 with 1 Axes>"
            ],
            "image/png": "[encoded data removed]"
          },
          "metadata": {}
        }
      ]
    },
    {
      "cell_type": "code",
      "source": [
        "y_pred = rf.predict(X_test)\n",
        "\n",
        "y_pred"
      ],
      "metadata": {
        "colab": {
          "base_uri": "https://localhost:8080/"
        },
        "id": "aZAOUUKo6hxW",
        "outputId": "46389820-abbb-48ce-9574-59d6a82ffe1e"
      },
      "execution_count": null,
      "outputs": [
        {
          "output_type": "execute_result",
          "data": {
            "text/plain": [
              "array([1, 1, 0, ..., 0, 0, 0])"
            ]
          },
          "metadata": {},
          "execution_count": 27
        }
      ]
    },
    {
      "cell_type": "code",
      "source": [
        "from sklearn.metrics import confusion_matrix\n",
        "\n",
        "#Generate the confusion matrix\n",
        "cf_matrix = confusion_matrix(y_test, y_pred)\n",
        "\n",
        "print(cf_matrix)"
      ],
      "metadata": {
        "colab": {
          "base_uri": "https://localhost:8080/"
        },
        "id": "x4uniQ2r6p2y",
        "outputId": "4d0ebb93-e169-4797-b3fa-f0292ad317a2"
      },
      "execution_count": null,
      "outputs": [
        {
          "output_type": "stream",
          "name": "stdout",
          "text": [
            "[[10485   727]\n",
            " [ 2118  4505]]\n"
          ]
        }
      ]
    },
    {
      "cell_type": "code",
      "source": [
        "cm_df = pd.DataFrame(cf_matrix, index=['Actually Not Canceled', 'Actually Canceled'],\n",
        "                 columns=['Predicted Not Canceled', 'Predicted Canceled'])"
      ],
      "metadata": {
        "id": "pCupf6z87jHP"
      },
      "execution_count": null,
      "outputs": []
    },
    {
      "cell_type": "code",
      "source": [
        "# visualizing the confusion matrix\n",
        "sns.set(font_scale=1.2)\n",
        "plt.figure(figsize=(10,4))\n",
        "    \n",
        "sns.heatmap(cf_matrix, annot=True, fmt='g', cmap=\"Blues\",xticklabels=cm_df.columns, yticklabels=cm_df.index, annot_kws={\"size\": 20})\n",
        "plt.title(\"Confusion Matrix\", size=20)\n",
        "plt.xlabel('Predicted Class')\n",
        "plt.ylabel('True Class');"
      ],
      "metadata": {
        "colab": {
          "base_uri": "https://localhost:8080/",
          "height": 431
        },
        "id": "ozF1AbFsssSt",
        "outputId": "7c78b27d-f353-4088-d6bf-472a1a4f9d98"
      },
      "execution_count": null,
      "outputs": [
        {
          "output_type": "display_data",
          "data": {
            "text/plain": [
              "<Figure size 1000x400 with 2 Axes>"
            ],
            "image/png": "[encoded data removed]"
          },
          "metadata": {}
        }
      ]
    },
    {
      "cell_type": "code",
      "source": [
        "# True Positives:\n",
        "TP = 4505\n",
        "# True Negatives:\n",
        "TN = 10485\n",
        "# False Posititives: \n",
        "FP = 727\n",
        "# False Negatives: \n",
        "FN = 2118\n",
        "total = 4505+2118+10485+727\n",
        "\n",
        "print(f'Correctly classified: {np.round((TP+TN)/total*100)}%')\n",
        "print(f'Canceled bookings correctly classified: {np.round(TP/(TP+FN)*100)}%')\n",
        "print(f'Not canceled bookings correctly classified: {np.round(TN/(TN+FP)*100)}%')\n",
        "print(f'Bookings predicted canceled that are actually canceled: {np.round(TP/(TP+FP)*100)}%')\n",
        "print(f'Bookings predicted not canceled that are actually not canceled: {np.round(TN/(TN+FN)*100)}%')"
      ],
      "metadata": {
        "colab": {
          "base_uri": "https://localhost:8080/"
        },
        "id": "uG9chEv3_grS",
        "outputId": "019c3739-d2ac-4677-b348-1b02fc747d70"
      },
      "execution_count": null,
      "outputs": [
        {
          "output_type": "stream",
          "name": "stdout",
          "text": [
            "Correctly classified: 84.0%\n",
            "Canceled bookings correctly classified: 68.0%\n",
            "Not canceled bookings correctly classified: 94.0%\n",
            "Bookings predicted canceled that are actually canceled: 86.0%\n",
            "Bookings predicted not canceled that are actually not canceled: 83.0%\n"
          ]
        }
      ]
    },
    {
      "cell_type": "code",
      "source": [
        "# Creating a dataframe of features and their associated random forest coefficients: \n",
        "coefficients = pd.DataFrame(rf.best_estimator_.coef_[0], X_train.columns)\n",
        "coefficients.rename(columns = {0: 'coef'}, inplace=True)"
      ],
      "metadata": {
        "colab": {
          "base_uri": "https://localhost:8080/",
          "height": 201
        },
        "id": "cjG9Aq71B4qs",
        "outputId": "36666910-8443-4725-e1be-985c17bc82de"
      },
      "execution_count": null,
      "outputs": [
        {
          "output_type": "error",
          "ename": "AttributeError",
          "evalue": "ignored",
          "traceback": [
            "\u001b[0;31m---------------------------------------------------------------------------\u001b[0m",
            "\u001b[0;31mAttributeError\u001b[0m                            Traceback (most recent call last)",
            "\u001b[0;32m<ipython-input-35-8e9191738509>\u001b[0m in \u001b[0;36m<module>\u001b[0;34m()\u001b[0m\n\u001b[1;32m      1\u001b[0m \u001b[0;31m# Creating a dataframe of features and their associated random forest coefficients:\u001b[0m\u001b[0;34m\u001b[0m\u001b[0;34m\u001b[0m\u001b[0;34m\u001b[0m\u001b[0m\n\u001b[0;32m----> 2\u001b[0;31m \u001b[0mcoefficients\u001b[0m \u001b[0;34m=\u001b[0m \u001b[0mpd\u001b[0m\u001b[0;34m.\u001b[0m\u001b[0mDataFrame\u001b[0m\u001b[0;34m(\u001b[0m\u001b[0mrf\u001b[0m\u001b[0;34m.\u001b[0m\u001b[0mbest_estimator_\u001b[0m\u001b[0;34m.\u001b[0m\u001b[0mcoef_\u001b[0m\u001b[0;34m[\u001b[0m\u001b[0;36m0\u001b[0m\u001b[0;34m]\u001b[0m\u001b[0;34m,\u001b[0m \u001b[0mX_train\u001b[0m\u001b[0;34m.\u001b[0m\u001b[0mcolumns\u001b[0m\u001b[0;34m)\u001b[0m\u001b[0;34m\u001b[0m\u001b[0;34m\u001b[0m\u001b[0m\n\u001b[0m\u001b[1;32m      3\u001b[0m \u001b[0mcoefficients\u001b[0m\u001b[0;34m.\u001b[0m\u001b[0mrename\u001b[0m\u001b[0;34m(\u001b[0m\u001b[0mcolumns\u001b[0m \u001b[0;34m=\u001b[0m \u001b[0;34m{\u001b[0m\u001b[0;36m0\u001b[0m\u001b[0;34m:\u001b[0m \u001b[0;34m'coef'\u001b[0m\u001b[0;34m}\u001b[0m\u001b[0;34m,\u001b[0m \u001b[0minplace\u001b[0m\u001b[0;34m=\u001b[0m\u001b[0;32mTrue\u001b[0m\u001b[0;34m)\u001b[0m\u001b[0;34m\u001b[0m\u001b[0;34m\u001b[0m\u001b[0m\n",
            "\u001b[0;31mAttributeError\u001b[0m: 'RandomForestClassifier' object has no attribute 'coef_'"
          ]
        }
      ]
    }
  ],
  "metadata": {
    "colab": {
      "collapsed_sections": [],
      "name": "Hotel Cancellation Prediction",
      "provenance": [],
      "include_colab_link": true
    },
    "kernelspec": {
      "display_name": "Python 3",
      "name": "python3"
    },
    "language_info": {
      "name": "python"
    }
  },
  "nbformat": 4,
  "nbformat_minor": 0
}